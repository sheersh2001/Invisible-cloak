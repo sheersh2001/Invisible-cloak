{
 "cells": [
  {
   "cell_type": "code",
   "execution_count": 1,
   "id": "f39b96b0",
   "metadata": {},
   "outputs": [],
   "source": [
    "import cv2\n",
    "import time\n",
    "import numpy as np"
   ]
  },
  {
   "cell_type": "code",
   "execution_count": 2,
   "id": "bf5a59be",
   "metadata": {},
   "outputs": [],
   "source": [
    "cap = cv2.VideoCapture(0)\n",
    "time.sleep(2)     \n",
    "background = 0"
   ]
  },
  {
   "cell_type": "code",
   "execution_count": 3,
   "id": "1ef7a90a",
   "metadata": {},
   "outputs": [],
   "source": [
    "for i in range(50):\n",
    "    ret, background = cap.read()"
   ]
  },
  {
   "cell_type": "code",
   "execution_count": 4,
   "id": "004ae0fa",
   "metadata": {},
   "outputs": [],
   "source": [
    "while(cap.isOpened()): \n",
    "    ret, img = cap.read()\n",
    "    if not ret:\n",
    "        break\n",
    "    hsv = cv2.cvtColor(img,cv2.COLOR_BGR2HSV)\n",
    "    #all this Comes in the while loop\n",
    "    lower_red = np.array([0,120,70])\n",
    "    upper_red = np.array([10,255,255]) # values is for red colour Cloth\n",
    "    mask1 = cv2.inRange(hsv, lower_red,upper_red)\n",
    "    \n",
    "    lower_red = np.array([170,120,70])\n",
    "    upper_red =  np.array([180,255,255])\n",
    "    mask2 = cv2.inRange(hsv,lower_red,upper_red)\n",
    "\n",
    "    \n",
    "    mask1 = mask1 +mask2\n",
    "\n",
    "    \n",
    "    mask1 = cv2.morphologyEx(mask1,cv2.MORPH_OPEN,np.ones((3,3),np.uint8), iterations = 2)\n",
    "    mask1 = cv2.morphologyEx(mask1, cv2.MORPH_DILATE,np.ones((3,3),np.uint8), iterations = 1)\n",
    "\n",
    "    mask2 =cv2.bitwise_not(mask1)\n",
    "    res1 = cv2.bitwise_and(background,background,mask=mask1)\n",
    "    \n",
    "    \n",
    "    res2 = cv2.bitwise_and(img,img,mask=mask2)\n",
    "    final_output = cv2.addWeighted(res1,1,res2,1,0)\n",
    "    cv2.imshow('Invisible Cloak',final_output)\n",
    "    k = cv2.waitKey(10)\n",
    "    if k==13:\n",
    "        break\n",
    "        \n",
    "        \n",
    "cap.release()\n",
    "cv2.destroyAllWindows()\n"
   ]
  },
  {
   "cell_type": "markdown",
   "id": "9b4fd429",
   "metadata": {},
   "source": []
  }
 ],
 "metadata": {
  "kernelspec": {
   "display_name": "Python 3 (ipykernel)",
   "language": "python",
   "name": "python3"
  },
  "language_info": {
   "codemirror_mode": {
    "name": "ipython",
    "version": 3
   },
   "file_extension": ".py",
   "mimetype": "text/x-python",
   "name": "python",
   "nbconvert_exporter": "python",
   "pygments_lexer": "ipython3",
   "version": "3.10.5"
  }
 },
 "nbformat": 4,
 "nbformat_minor": 5
}
